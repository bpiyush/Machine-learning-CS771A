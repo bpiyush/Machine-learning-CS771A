{
 "cells": [
  {
   "cell_type": "code",
   "execution_count": 1,
   "metadata": {},
   "outputs": [],
   "source": [
    "import pickle\n",
    "import numpy as np\n",
    "import pandas as pd\n",
    "import tqdm\n",
    "from scipy import ndimage\n",
    "from sklearn.preprocessing import MinMaxScaler\n",
    "import matplotlib.pyplot as plt"
   ]
  },
  {
   "cell_type": "code",
   "execution_count": 2,
   "metadata": {},
   "outputs": [],
   "source": [
    "with open('data/facedata_py2_3.pkl', 'rb') as f:\n",
    "    data = pickle.load(f)"
   ]
  },
  {
   "cell_type": "code",
   "execution_count": 3,
   "metadata": {},
   "outputs": [],
   "source": [
    "X = data['X']"
   ]
  },
  {
   "cell_type": "code",
   "execution_count": 4,
   "metadata": {},
   "outputs": [],
   "source": [
    "def alt_opt_ppca(X, K):\n",
    "    N = X.shape[0]\n",
    "    D = X.shape[1]\n",
    "    \n",
    "    # Initialize the params and latent variables\n",
    "    W = np.random.rand(D, K)\n",
    "    Z = np.random.rand(N, K)\n",
    "    \n",
    "    for iteration in tqdm.trange(100):\n",
    "        Z = (np.dot(np.dot(np.linalg.inv(np.dot(W.T, W)), W.T), X.T)).T\n",
    "        W = (np.dot(np.dot(np.linalg.inv(np.dot(Z.T, Z)), Z.T), X)).T\n",
    "    \n",
    "    return Z, W"
   ]
  },
  {
   "cell_type": "code",
   "execution_count": 5,
   "metadata": {},
   "outputs": [],
   "source": [
    "def plot_images(X_original, X_reconstructed,k):\n",
    "    from scipy import ndimage\n",
    "\n",
    "    L = []\n",
    "    for i in range(5):\n",
    "        L.append(X_original[i])\n",
    "    for i in range(5):\n",
    "        L.append(X_reconstructed[i])\n",
    "\n",
    "    fig=plt.figure(figsize=(12, 5))\n",
    "    columns = 5\n",
    "    rows = 2\n",
    "\n",
    "    for i in range(1, columns*rows +1):\n",
    "        img = L[i-1].reshape(64, 64)\n",
    "        img = ndimage.rotate(img, 270)\n",
    "        fig.add_subplot(rows, columns, i)\n",
    "        plt.axis('off')\n",
    "        plt.tight_layout()\n",
    "        plt.imshow(img, cmap='gray')\n",
    "#     plt.savefig('img_k_'+str(k)+'.png')\n",
    "    plt.show()\n",
    "    \n",
    "    return L"
   ]
  },
  {
   "cell_type": "code",
   "execution_count": 6,
   "metadata": {},
   "outputs": [],
   "source": [
    "def plot_weights(W, k, l=10):\n",
    "    W_subset = W[:,:10]\n",
    "    \n",
    "    fig=plt.figure(figsize=(12, 5))\n",
    "    columns = 5\n",
    "    rows = 2\n",
    "\n",
    "    for i in range(1, columns*rows +1):\n",
    "        img = W_subset[:,i-1].reshape(64, 64)\n",
    "        img = ndimage.rotate(img, 270)\n",
    "        fig.add_subplot(rows, columns, i)\n",
    "        plt.axis('off')\n",
    "        plt.tight_layout()\n",
    "        plt.imshow(img, cmap='gray')\n",
    "#     plt.savefig('template_weights_k_'+str(k)+'.png')\n",
    "    plt.show()\n",
    "    \n",
    "    return W_subset"
   ]
  },
  {
   "cell_type": "code",
   "execution_count": 7,
   "metadata": {},
   "outputs": [],
   "source": [
    "def test():\n",
    "    mu = np.mean(X, axis=0)\n",
    "    X_centered = X-mu\n",
    "\n",
    "\n",
    "    k_values = [10, 20,30, 40, 50, 100]\n",
    "\n",
    "    all_images = []\n",
    "    all_basis = []\n",
    "\n",
    "    for k in k_values:\n",
    "        print(\"For k = \", k)\n",
    "        Z, W = alt_opt_ppca(X_centered, k)\n",
    "\n",
    "        reconstruct_indices = [10, 20, 30, 40, 50]\n",
    "\n",
    "        X_original = X[reconstruct_indices,:]\n",
    "        X_reconstructed = mu + np.dot((Z[reconstruct_indices,:]), W.T)\n",
    "\n",
    "        scaler = MinMaxScaler(feature_range=(0,255))\n",
    "        X_reconstructed = (scaler.fit_transform(X_reconstructed.T)).T\n",
    "\n",
    "        L = plot_images(X_original, X_reconstructed, k)\n",
    "        W_subset = plot_weights(W, k)\n",
    "\n",
    "        all_images.append(L)\n",
    "        all_basis.append(W_subset)\n",
    "    \n",
    "    \n"
   ]
  },
  {
   "cell_type": "code",
   "execution_count": null,
   "metadata": {},
   "outputs": [],
   "source": []
  },
  {
   "cell_type": "code",
   "execution_count": null,
   "metadata": {},
   "outputs": [],
   "source": []
  }
 ],
 "metadata": {
  "kernelspec": {
   "display_name": "Python 3",
   "language": "python",
   "name": "python3"
  },
  "language_info": {
   "codemirror_mode": {
    "name": "ipython",
    "version": 3
   },
   "file_extension": ".py",
   "mimetype": "text/x-python",
   "name": "python",
   "nbconvert_exporter": "python",
   "pygments_lexer": "ipython3",
   "version": "3.5.2"
  }
 },
 "nbformat": 4,
 "nbformat_minor": 2
}
